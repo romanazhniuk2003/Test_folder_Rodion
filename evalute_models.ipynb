{
 "cells": [
  {
   "cell_type": "code",
   "execution_count": null,
   "id": "63bcb83d-4415-4bda-9b89-d6501b2513e3",
   "metadata": {},
   "outputs": [],
   "source": [
    "import pickle\n",
    "import numpy as np\n",
    "import pandas as pd\n",
    "\n",
    "knn = pickle.load(open(\"\",\"rb\"))\n",
    "rf = pickle.load(open(\"\",\"rb\"))"
   ]
  },
  {
   "cell_type": "code",
   "execution_count": null,
   "id": "b57e8fd8-330b-4f37-acc0-00b551054382",
   "metadata": {},
   "outputs": [],
   "source": [
    "X = pd.read_csv('weather_alarms_tfidf_features_clear.csv')\n",
    "X = X.drop(columns=['Unnamed: 0.1', 'Unnamed: 0'], axis=1)\n",
    "feature_importances = rf.feature_importances_\n",
    "sorted_idx = np.argsort(feature_importances)[::-1]\n",
    "for i in range(20):\n",
    "    print(feature_importances[sorted_idx[i]], X.columns[sorted_idx[i]])"
   ]
  }
 ],
 "metadata": {
  "kernelspec": {
   "display_name": "Python 3 (ipykernel)",
   "language": "python",
   "name": "python3"
  },
  "language_info": {
   "codemirror_mode": {
    "name": "ipython",
    "version": 3
   },
   "file_extension": ".py",
   "mimetype": "text/x-python",
   "name": "python",
   "nbconvert_exporter": "python",
   "pygments_lexer": "ipython3",
   "version": "3.12.0"
  }
 },
 "nbformat": 4,
 "nbformat_minor": 5
}
