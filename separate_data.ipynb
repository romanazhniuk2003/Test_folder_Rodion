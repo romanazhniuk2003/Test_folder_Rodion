{
 "cells": [
  {
   "cell_type": "code",
   "execution_count": null,
   "id": "4ef58b2b-7f76-4b10-80c5-3d3300719a01",
   "metadata": {},
   "outputs": [],
   "source": [
    "from sklearn.model_selection import TimeSeriesSplit\n",
    "\n",
    "tss_data = pd.DataFrame(weather_alarms_tfidf_features)\n",
    "\n",
    "X = weather_alarms_tfidf_features\n",
    "y= Y\n",
    "\n",
    "n_splits = 5\n",
    "tscv = TimeSeriesSplit(n_splits=n_splits)\n",
    "\n",
    "for train_index, test_index in tscv.split(X):\n",
    "    X_train, X_test = X[train_index], X[train_index]\n",
    "    y_train, y_test = y[train_index], y[train_index]"
   ]
  }
 ],
 "metadata": {
  "kernelspec": {
   "display_name": "Python 3 (ipykernel)",
   "language": "python",
   "name": "python3"
  },
  "language_info": {
   "codemirror_mode": {
    "name": "ipython",
    "version": 3
   },
   "file_extension": ".py",
   "mimetype": "text/x-python",
   "name": "python",
   "nbconvert_exporter": "python",
   "pygments_lexer": "ipython3",
   "version": "3.12.0"
  }
 },
 "nbformat": 4,
 "nbformat_minor": 5
}
