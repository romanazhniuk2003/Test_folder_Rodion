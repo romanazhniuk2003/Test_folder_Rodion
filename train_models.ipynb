{
 "cells": [
  {
   "cell_type": "code",
   "execution_count": 1,
   "id": "886abca6-31c7-4d52-863c-2c88378a1c8d",
   "metadata": {},
   "outputs": [],
   "source": [
    "import pandas as pd\n",
    "import pickle\n",
    "import scipy\n",
    "from scipy import sparse"
   ]
  },
  {
   "cell_type": "code",
   "execution_count": 2,
   "id": "8bc82586-db21-4658-bd00-52483560a99f",
   "metadata": {},
   "outputs": [],
   "source": [
    "weather_alarms_tfidf = pd.read_csv('df_weather+alarms_merged.csv')"
   ]
  },
  {
   "cell_type": "code",
   "execution_count": 3,
   "id": "5d92f9e8-3b19-4439-8acd-47a6163c0e77",
   "metadata": {},
   "outputs": [
    {
     "data": {
      "text/html": [
       "<div>\n",
       "<style scoped>\n",
       "    .dataframe tbody tr th:only-of-type {\n",
       "        vertical-align: middle;\n",
       "    }\n",
       "\n",
       "    .dataframe tbody tr th {\n",
       "        vertical-align: top;\n",
       "    }\n",
       "\n",
       "    .dataframe thead th {\n",
       "        text-align: right;\n",
       "    }\n",
       "</style>\n",
       "<table border=\"1\" class=\"dataframe\">\n",
       "  <thead>\n",
       "    <tr style=\"text-align: right;\">\n",
       "      <th></th>\n",
       "      <th>Unnamed: 0</th>\n",
       "      <th>city_resolvedAddress</th>\n",
       "      <th>day_datetime</th>\n",
       "      <th>day_datetimeEpoch</th>\n",
       "      <th>day_tempmax</th>\n",
       "      <th>day_tempmin</th>\n",
       "      <th>day_temp</th>\n",
       "      <th>day_dew</th>\n",
       "      <th>day_humidity</th>\n",
       "      <th>day_precip</th>\n",
       "      <th>...</th>\n",
       "      <th>event_intersection_alarm_id</th>\n",
       "      <th>event_start_time</th>\n",
       "      <th>event_end_time</th>\n",
       "      <th>event_start_hour</th>\n",
       "      <th>event_end_hour</th>\n",
       "      <th>event_day_date</th>\n",
       "      <th>event_start_hour_datetimeEpoch</th>\n",
       "      <th>event_end_hour_datetimeEpoch</th>\n",
       "      <th>event_hour_level_event_time</th>\n",
       "      <th>event_hour_level_event_datetimeEpoch</th>\n",
       "    </tr>\n",
       "  </thead>\n",
       "  <tbody>\n",
       "    <tr>\n",
       "      <th>0</th>\n",
       "      <td>0</td>\n",
       "      <td>Луцьк, Луцький район, Україна</td>\n",
       "      <td>2022-02-24</td>\n",
       "      <td>1645653600</td>\n",
       "      <td>4.9</td>\n",
       "      <td>0.7</td>\n",
       "      <td>2.6</td>\n",
       "      <td>0.0</td>\n",
       "      <td>83.7</td>\n",
       "      <td>0.118</td>\n",
       "      <td>...</td>\n",
       "      <td>NaN</td>\n",
       "      <td>NaN</td>\n",
       "      <td>NaN</td>\n",
       "      <td>NaN</td>\n",
       "      <td>NaN</td>\n",
       "      <td>NaN</td>\n",
       "      <td>NaN</td>\n",
       "      <td>NaN</td>\n",
       "      <td>NaN</td>\n",
       "      <td>NaN</td>\n",
       "    </tr>\n",
       "    <tr>\n",
       "      <th>1</th>\n",
       "      <td>1</td>\n",
       "      <td>Луцьк, Луцький район, Україна</td>\n",
       "      <td>2022-02-24</td>\n",
       "      <td>1645653600</td>\n",
       "      <td>4.9</td>\n",
       "      <td>0.7</td>\n",
       "      <td>2.6</td>\n",
       "      <td>0.0</td>\n",
       "      <td>83.7</td>\n",
       "      <td>0.118</td>\n",
       "      <td>...</td>\n",
       "      <td>NaN</td>\n",
       "      <td>NaN</td>\n",
       "      <td>NaN</td>\n",
       "      <td>NaN</td>\n",
       "      <td>NaN</td>\n",
       "      <td>NaN</td>\n",
       "      <td>NaN</td>\n",
       "      <td>NaN</td>\n",
       "      <td>NaN</td>\n",
       "      <td>NaN</td>\n",
       "    </tr>\n",
       "    <tr>\n",
       "      <th>2</th>\n",
       "      <td>2</td>\n",
       "      <td>Луцьк, Луцький район, Україна</td>\n",
       "      <td>2022-02-24</td>\n",
       "      <td>1645653600</td>\n",
       "      <td>4.9</td>\n",
       "      <td>0.7</td>\n",
       "      <td>2.6</td>\n",
       "      <td>0.0</td>\n",
       "      <td>83.7</td>\n",
       "      <td>0.118</td>\n",
       "      <td>...</td>\n",
       "      <td>NaN</td>\n",
       "      <td>NaN</td>\n",
       "      <td>NaN</td>\n",
       "      <td>NaN</td>\n",
       "      <td>NaN</td>\n",
       "      <td>NaN</td>\n",
       "      <td>NaN</td>\n",
       "      <td>NaN</td>\n",
       "      <td>NaN</td>\n",
       "      <td>NaN</td>\n",
       "    </tr>\n",
       "    <tr>\n",
       "      <th>3</th>\n",
       "      <td>3</td>\n",
       "      <td>Луцьк, Луцький район, Україна</td>\n",
       "      <td>2022-02-24</td>\n",
       "      <td>1645653600</td>\n",
       "      <td>4.9</td>\n",
       "      <td>0.7</td>\n",
       "      <td>2.6</td>\n",
       "      <td>0.0</td>\n",
       "      <td>83.7</td>\n",
       "      <td>0.118</td>\n",
       "      <td>...</td>\n",
       "      <td>NaN</td>\n",
       "      <td>NaN</td>\n",
       "      <td>NaN</td>\n",
       "      <td>NaN</td>\n",
       "      <td>NaN</td>\n",
       "      <td>NaN</td>\n",
       "      <td>NaN</td>\n",
       "      <td>NaN</td>\n",
       "      <td>NaN</td>\n",
       "      <td>NaN</td>\n",
       "    </tr>\n",
       "    <tr>\n",
       "      <th>4</th>\n",
       "      <td>4</td>\n",
       "      <td>Луцьк, Луцький район, Україна</td>\n",
       "      <td>2022-02-24</td>\n",
       "      <td>1645653600</td>\n",
       "      <td>4.9</td>\n",
       "      <td>0.7</td>\n",
       "      <td>2.6</td>\n",
       "      <td>0.0</td>\n",
       "      <td>83.7</td>\n",
       "      <td>0.118</td>\n",
       "      <td>...</td>\n",
       "      <td>NaN</td>\n",
       "      <td>NaN</td>\n",
       "      <td>NaN</td>\n",
       "      <td>NaN</td>\n",
       "      <td>NaN</td>\n",
       "      <td>NaN</td>\n",
       "      <td>NaN</td>\n",
       "      <td>NaN</td>\n",
       "      <td>NaN</td>\n",
       "      <td>NaN</td>\n",
       "    </tr>\n",
       "  </tbody>\n",
       "</table>\n",
       "<p>5 rows × 60 columns</p>\n",
       "</div>"
      ],
      "text/plain": [
       "   Unnamed: 0           city_resolvedAddress day_datetime  day_datetimeEpoch  \\\n",
       "0           0  Луцьк, Луцький район, Україна   2022-02-24         1645653600   \n",
       "1           1  Луцьк, Луцький район, Україна   2022-02-24         1645653600   \n",
       "2           2  Луцьк, Луцький район, Україна   2022-02-24         1645653600   \n",
       "3           3  Луцьк, Луцький район, Україна   2022-02-24         1645653600   \n",
       "4           4  Луцьк, Луцький район, Україна   2022-02-24         1645653600   \n",
       "\n",
       "   day_tempmax  day_tempmin  day_temp  day_dew  day_humidity  day_precip  ...  \\\n",
       "0          4.9          0.7       2.6      0.0          83.7       0.118  ...   \n",
       "1          4.9          0.7       2.6      0.0          83.7       0.118  ...   \n",
       "2          4.9          0.7       2.6      0.0          83.7       0.118  ...   \n",
       "3          4.9          0.7       2.6      0.0          83.7       0.118  ...   \n",
       "4          4.9          0.7       2.6      0.0          83.7       0.118  ...   \n",
       "\n",
       "   event_intersection_alarm_id  event_start_time  event_end_time  \\\n",
       "0                          NaN               NaN             NaN   \n",
       "1                          NaN               NaN             NaN   \n",
       "2                          NaN               NaN             NaN   \n",
       "3                          NaN               NaN             NaN   \n",
       "4                          NaN               NaN             NaN   \n",
       "\n",
       "   event_start_hour event_end_hour event_day_date  \\\n",
       "0               NaN            NaN            NaN   \n",
       "1               NaN            NaN            NaN   \n",
       "2               NaN            NaN            NaN   \n",
       "3               NaN            NaN            NaN   \n",
       "4               NaN            NaN            NaN   \n",
       "\n",
       "   event_start_hour_datetimeEpoch event_end_hour_datetimeEpoch  \\\n",
       "0                             NaN                          NaN   \n",
       "1                             NaN                          NaN   \n",
       "2                             NaN                          NaN   \n",
       "3                             NaN                          NaN   \n",
       "4                             NaN                          NaN   \n",
       "\n",
       "   event_hour_level_event_time  event_hour_level_event_datetimeEpoch  \n",
       "0                          NaN                                   NaN  \n",
       "1                          NaN                                   NaN  \n",
       "2                          NaN                                   NaN  \n",
       "3                          NaN                                   NaN  \n",
       "4                          NaN                                   NaN  \n",
       "\n",
       "[5 rows x 60 columns]"
      ]
     },
     "execution_count": 3,
     "metadata": {},
     "output_type": "execute_result"
    }
   ],
   "source": [
    "weather_alarms_tfidf.head()"
   ]
  },
  {
   "cell_type": "code",
   "execution_count": 4,
   "id": "697f6e63-9259-4133-8e06-06d37c65f859",
   "metadata": {},
   "outputs": [
    {
     "data": {
      "text/plain": [
       "Index(['Unnamed: 0', 'city_resolvedAddress', 'day_datetime',\n",
       "       'day_datetimeEpoch', 'day_tempmax', 'day_tempmin', 'day_temp',\n",
       "       'day_dew', 'day_humidity', 'day_precip', 'day_precipcover',\n",
       "       'day_solarradiation', 'day_solarenergy', 'day_uvindex', 'day_sunrise',\n",
       "       'day_sunset', 'day_moonphase', 'hour_datetime', 'hour_datetimeEpoch',\n",
       "       'hour_temp', 'hour_humidity', 'hour_dew', 'hour_precip',\n",
       "       'hour_precipprob', 'hour_snow', 'hour_snowdepth', 'hour_preciptype',\n",
       "       'hour_windgust', 'hour_windspeed', 'hour_winddir', 'hour_pressure',\n",
       "       'hour_visibility', 'hour_cloudcover', 'hour_solarradiation',\n",
       "       'hour_solarenergy', 'hour_uvindex', 'hour_severerisk',\n",
       "       'hour_conditions', 'city', 'region', 'center_city_ua', 'center_city_en',\n",
       "       'region_alt', 'region_id', 'event_region_title', 'event_region_city',\n",
       "       'event_all_region', 'event_start', 'event_end', 'event_clean_end',\n",
       "       'event_intersection_alarm_id', 'event_start_time', 'event_end_time',\n",
       "       'event_start_hour', 'event_end_hour', 'event_day_date',\n",
       "       'event_start_hour_datetimeEpoch', 'event_end_hour_datetimeEpoch',\n",
       "       'event_hour_level_event_time', 'event_hour_level_event_datetimeEpoch'],\n",
       "      dtype='object')"
      ]
     },
     "execution_count": 4,
     "metadata": {},
     "output_type": "execute_result"
    }
   ],
   "source": [
    "weather_alarms_tfidf.columns"
   ]
  },
  {
   "cell_type": "markdown",
   "id": "66fa5102-1840-40f1-b2d9-249b59b56bfa",
   "metadata": {},
   "source": [
    "TF_IDF + CV "
   ]
  },
  {
   "cell_type": "code",
   "execution_count": 5,
   "id": "4226592a-a7ee-4304-a715-484d21acbc38",
   "metadata": {},
   "outputs": [],
   "source": [
    "tfidf = pickle.load(open(\"tfidf_transformer_v1.pkl\",\"rb\"))\n",
    "cv = pickle.load(open(\"count_vectorizer_v1.pkl\",\"rb\"))"
   ]
  },
  {
   "cell_type": "code",
   "execution_count": 6,
   "id": "777605dd-70c0-492a-8e6d-69a036534519",
   "metadata": {},
   "outputs": [
    {
     "ename": "KeyError",
     "evalue": "'text_html'",
     "output_type": "error",
     "traceback": [
      "\u001b[1;31m---------------------------------------------------------------------------\u001b[0m",
      "\u001b[1;31mKeyError\u001b[0m                                  Traceback (most recent call last)",
      "File \u001b[1;32m~\\PycharmProjects\\pythonProject\\.venv\\Lib\\site-packages\\pandas\\core\\indexes\\base.py:3805\u001b[0m, in \u001b[0;36mIndex.get_loc\u001b[1;34m(self, key)\u001b[0m\n\u001b[0;32m   3804\u001b[0m \u001b[38;5;28;01mtry\u001b[39;00m:\n\u001b[1;32m-> 3805\u001b[0m     \u001b[38;5;28;01mreturn\u001b[39;00m \u001b[38;5;28;43mself\u001b[39;49m\u001b[38;5;241;43m.\u001b[39;49m\u001b[43m_engine\u001b[49m\u001b[38;5;241;43m.\u001b[39;49m\u001b[43mget_loc\u001b[49m\u001b[43m(\u001b[49m\u001b[43mcasted_key\u001b[49m\u001b[43m)\u001b[49m\n\u001b[0;32m   3806\u001b[0m \u001b[38;5;28;01mexcept\u001b[39;00m \u001b[38;5;167;01mKeyError\u001b[39;00m \u001b[38;5;28;01mas\u001b[39;00m err:\n",
      "File \u001b[1;32mindex.pyx:167\u001b[0m, in \u001b[0;36mpandas._libs.index.IndexEngine.get_loc\u001b[1;34m()\u001b[0m\n",
      "File \u001b[1;32mindex.pyx:196\u001b[0m, in \u001b[0;36mpandas._libs.index.IndexEngine.get_loc\u001b[1;34m()\u001b[0m\n",
      "File \u001b[1;32mpandas\\\\_libs\\\\hashtable_class_helper.pxi:7081\u001b[0m, in \u001b[0;36mpandas._libs.hashtable.PyObjectHashTable.get_item\u001b[1;34m()\u001b[0m\n",
      "File \u001b[1;32mpandas\\\\_libs\\\\hashtable_class_helper.pxi:7089\u001b[0m, in \u001b[0;36mpandas._libs.hashtable.PyObjectHashTable.get_item\u001b[1;34m()\u001b[0m\n",
      "\u001b[1;31mKeyError\u001b[0m: 'text_html'",
      "\nThe above exception was the direct cause of the following exception:\n",
      "\u001b[1;31mKeyError\u001b[0m                                  Traceback (most recent call last)",
      "Cell \u001b[1;32mIn[6], line 1\u001b[0m\n\u001b[1;32m----> 1\u001b[0m word_count_vector \u001b[38;5;241m=\u001b[39m cv\u001b[38;5;241m.\u001b[39mtransform(\u001b[43mweather_alarms_tfidf\u001b[49m\u001b[43m[\u001b[49m\u001b[38;5;124;43m'\u001b[39;49m\u001b[38;5;124;43mtext_html\u001b[39;49m\u001b[38;5;124;43m'\u001b[39;49m\u001b[43m]\u001b[49m\u001b[38;5;241m.\u001b[39mvalues\u001b[38;5;241m.\u001b[39mastype(\u001b[38;5;124m'\u001b[39m\u001b[38;5;124mU\u001b[39m\u001b[38;5;124m'\u001b[39m))\n\u001b[0;32m      2\u001b[0m tfidf_vector \u001b[38;5;241m=\u001b[39m tfidf\u001b[38;5;241m.\u001b[39mtransform(word_count_vector)\n",
      "File \u001b[1;32m~\\PycharmProjects\\pythonProject\\.venv\\Lib\\site-packages\\pandas\\core\\frame.py:4090\u001b[0m, in \u001b[0;36mDataFrame.__getitem__\u001b[1;34m(self, key)\u001b[0m\n\u001b[0;32m   4088\u001b[0m \u001b[38;5;28;01mif\u001b[39;00m \u001b[38;5;28mself\u001b[39m\u001b[38;5;241m.\u001b[39mcolumns\u001b[38;5;241m.\u001b[39mnlevels \u001b[38;5;241m>\u001b[39m \u001b[38;5;241m1\u001b[39m:\n\u001b[0;32m   4089\u001b[0m     \u001b[38;5;28;01mreturn\u001b[39;00m \u001b[38;5;28mself\u001b[39m\u001b[38;5;241m.\u001b[39m_getitem_multilevel(key)\n\u001b[1;32m-> 4090\u001b[0m indexer \u001b[38;5;241m=\u001b[39m \u001b[38;5;28;43mself\u001b[39;49m\u001b[38;5;241;43m.\u001b[39;49m\u001b[43mcolumns\u001b[49m\u001b[38;5;241;43m.\u001b[39;49m\u001b[43mget_loc\u001b[49m\u001b[43m(\u001b[49m\u001b[43mkey\u001b[49m\u001b[43m)\u001b[49m\n\u001b[0;32m   4091\u001b[0m \u001b[38;5;28;01mif\u001b[39;00m is_integer(indexer):\n\u001b[0;32m   4092\u001b[0m     indexer \u001b[38;5;241m=\u001b[39m [indexer]\n",
      "File \u001b[1;32m~\\PycharmProjects\\pythonProject\\.venv\\Lib\\site-packages\\pandas\\core\\indexes\\base.py:3812\u001b[0m, in \u001b[0;36mIndex.get_loc\u001b[1;34m(self, key)\u001b[0m\n\u001b[0;32m   3807\u001b[0m     \u001b[38;5;28;01mif\u001b[39;00m \u001b[38;5;28misinstance\u001b[39m(casted_key, \u001b[38;5;28mslice\u001b[39m) \u001b[38;5;129;01mor\u001b[39;00m (\n\u001b[0;32m   3808\u001b[0m         \u001b[38;5;28misinstance\u001b[39m(casted_key, abc\u001b[38;5;241m.\u001b[39mIterable)\n\u001b[0;32m   3809\u001b[0m         \u001b[38;5;129;01mand\u001b[39;00m \u001b[38;5;28many\u001b[39m(\u001b[38;5;28misinstance\u001b[39m(x, \u001b[38;5;28mslice\u001b[39m) \u001b[38;5;28;01mfor\u001b[39;00m x \u001b[38;5;129;01min\u001b[39;00m casted_key)\n\u001b[0;32m   3810\u001b[0m     ):\n\u001b[0;32m   3811\u001b[0m         \u001b[38;5;28;01mraise\u001b[39;00m InvalidIndexError(key)\n\u001b[1;32m-> 3812\u001b[0m     \u001b[38;5;28;01mraise\u001b[39;00m \u001b[38;5;167;01mKeyError\u001b[39;00m(key) \u001b[38;5;28;01mfrom\u001b[39;00m \u001b[38;5;21;01merr\u001b[39;00m\n\u001b[0;32m   3813\u001b[0m \u001b[38;5;28;01mexcept\u001b[39;00m \u001b[38;5;167;01mTypeError\u001b[39;00m:\n\u001b[0;32m   3814\u001b[0m     \u001b[38;5;66;03m# If we have a listlike key, _check_indexing_error will raise\u001b[39;00m\n\u001b[0;32m   3815\u001b[0m     \u001b[38;5;66;03m#  InvalidIndexError. Otherwise we fall through and re-raise\u001b[39;00m\n\u001b[0;32m   3816\u001b[0m     \u001b[38;5;66;03m#  the TypeError.\u001b[39;00m\n\u001b[0;32m   3817\u001b[0m     \u001b[38;5;28mself\u001b[39m\u001b[38;5;241m.\u001b[39m_check_indexing_error(key)\n",
      "\u001b[1;31mKeyError\u001b[0m: 'text_html'"
     ]
    }
   ],
   "source": [
    "word_count_vector = cv.transform(weather_alarms_tfidf['text_html'].values.astype('U'))\n",
    "tfidf_vector = tfidf.transform(word_count_vector)"
   ]
  },
  {
   "cell_type": "code",
   "execution_count": null,
   "id": "50c19985-1c15-4e10-9e71-2965604b77f9",
   "metadata": {},
   "outputs": [],
   "source": [
    "#with open(\"models/tfidf_vector_calculated.pkl\", \"wb\") as handle:\n",
    "#    pickle.dump(tfidf_vector, handle)\n",
    "#scipy.sparse.save_npz('data/matrix/tfidf_vector_train.npz', tfidf_vector)"
   ]
  },
  {
   "cell_type": "code",
   "execution_count": 7,
   "id": "3ad4fc6a-ab0f-4df1-b8ee-8a084b3bf7e6",
   "metadata": {},
   "outputs": [
    {
     "ename": "NameError",
     "evalue": "name 'tfidf_vector' is not defined",
     "output_type": "error",
     "traceback": [
      "\u001b[1;31m---------------------------------------------------------------------------\u001b[0m",
      "\u001b[1;31mNameError\u001b[0m                                 Traceback (most recent call last)",
      "Cell \u001b[1;32mIn[7], line 1\u001b[0m\n\u001b[1;32m----> 1\u001b[0m \u001b[43mtfidf_vector\u001b[49m\n",
      "\u001b[1;31mNameError\u001b[0m: name 'tfidf_vector' is not defined"
     ]
    }
   ],
   "source": [
    "tfidf_vector"
   ]
  },
  {
   "cell_type": "markdown",
   "id": "2eb37c54-50ae-4556-a7c8-7eb74b79ca42",
   "metadata": {},
   "source": [
    "Data Preprocesing"
   ]
  },
  {
   "cell_type": "code",
   "execution_count": 8,
   "id": "137c448d-0d03-4d71-8342-ee56b4add313",
   "metadata": {},
   "outputs": [
    {
     "name": "stdout",
     "output_type": "stream",
     "text": [
      "<class 'pandas.core.frame.DataFrame'>\n",
      "RangeIndex: 195089 entries, 0 to 195088\n",
      "Data columns (total 61 columns):\n",
      " #   Column                                Non-Null Count   Dtype  \n",
      "---  ------                                --------------   -----  \n",
      " 0   Unnamed: 0                            195089 non-null  int64  \n",
      " 1   city_resolvedAddress                  195089 non-null  object \n",
      " 2   day_datetime                          195089 non-null  object \n",
      " 3   day_datetimeEpoch                     195089 non-null  int64  \n",
      " 4   day_tempmax                           195089 non-null  float64\n",
      " 5   day_tempmin                           195089 non-null  float64\n",
      " 6   day_temp                              195089 non-null  float64\n",
      " 7   day_dew                               195089 non-null  float64\n",
      " 8   day_humidity                          195089 non-null  float64\n",
      " 9   day_precip                            195089 non-null  float64\n",
      " 10  day_precipcover                       195089 non-null  float64\n",
      " 11  day_solarradiation                    195089 non-null  float64\n",
      " 12  day_solarenergy                       195089 non-null  float64\n",
      " 13  day_uvindex                           195089 non-null  float64\n",
      " 14  day_sunrise                           195089 non-null  object \n",
      " 15  day_sunset                            195089 non-null  object \n",
      " 16  day_moonphase                         195089 non-null  float64\n",
      " 17  hour_datetime                         195089 non-null  object \n",
      " 18  hour_datetimeEpoch                    195089 non-null  int64  \n",
      " 19  hour_temp                             195089 non-null  float64\n",
      " 20  hour_humidity                         195089 non-null  float64\n",
      " 21  hour_dew                              195089 non-null  float64\n",
      " 22  hour_precip                           194986 non-null  float64\n",
      " 23  hour_precipprob                       195089 non-null  float64\n",
      " 24  hour_snow                             195089 non-null  float64\n",
      " 25  hour_snowdepth                        195089 non-null  float64\n",
      " 26  hour_preciptype                       31837 non-null   object \n",
      " 27  hour_windgust                         195089 non-null  float64\n",
      " 28  hour_windspeed                        195089 non-null  float64\n",
      " 29  hour_winddir                          195089 non-null  float64\n",
      " 30  hour_pressure                         195089 non-null  float64\n",
      " 31  hour_visibility                       195089 non-null  float64\n",
      " 32  hour_cloudcover                       195089 non-null  float64\n",
      " 33  hour_solarradiation                   194333 non-null  float64\n",
      " 34  hour_solarenergy                      106688 non-null  float64\n",
      " 35  hour_uvindex                          194333 non-null  float64\n",
      " 36  hour_severerisk                       195089 non-null  float64\n",
      " 37  hour_conditions                       195089 non-null  object \n",
      " 38  city                                  195089 non-null  object \n",
      " 39  region                                195089 non-null  object \n",
      " 40  center_city_ua                        195089 non-null  object \n",
      " 41  center_city_en                        195089 non-null  object \n",
      " 42  region_alt                            195089 non-null  object \n",
      " 43  region_id                             195089 non-null  int64  \n",
      " 44  event_region_title                    49255 non-null   object \n",
      " 45  event_region_city                     49255 non-null   object \n",
      " 46  event_all_region                      49255 non-null   float64\n",
      " 47  event_start                           49255 non-null   object \n",
      " 48  event_end                             49255 non-null   object \n",
      " 49  event_clean_end                       49254 non-null   object \n",
      " 50  event_intersection_alarm_id           4924 non-null    float64\n",
      " 51  event_start_time                      49255 non-null   object \n",
      " 52  event_end_time                        49255 non-null   object \n",
      " 53  event_start_hour                      49255 non-null   object \n",
      " 54  event_end_hour                        49255 non-null   object \n",
      " 55  event_day_date                        49255 non-null   object \n",
      " 56  event_start_hour_datetimeEpoch        49255 non-null   float64\n",
      " 57  event_end_hour_datetimeEpoch          49255 non-null   float64\n",
      " 58  event_hour_level_event_time           49255 non-null   object \n",
      " 59  event_hour_level_event_datetimeEpoch  49255 non-null   float64\n",
      " 60  isAlarm                               195089 non-null  int32  \n",
      "dtypes: float64(33), int32(1), int64(4), object(23)\n",
      "memory usage: 90.0+ MB\n"
     ]
    }
   ],
   "source": [
    "weather_alarms_tfidf['isAlarm'] = weather_alarms_tfidf['event_start_hour'].notnull().astype(int)\n",
    "isalarm = weather_alarms_tfidf['isAlarm']\n",
    "weather_alarms_tfidf.info()"
   ]
  },
  {
   "cell_type": "code",
   "execution_count": null,
   "id": "a944a27b-36ef-417c-98c2-2ec611827ab0",
   "metadata": {},
   "outputs": [],
   "source": [
    "weather_alarms_tfidf_features = weather_alarms_tfidf.drop(columns=['event_all_region', 'event_start',\n",
    "       'event_end', 'event_clean_end', 'event_intersection_alarm_id',\n",
    "       'event_start_time', 'event_end_time', 'event_day',\n",
    "       'event_feature_number_of_region', 'event_within_24_hours',\n",
    "       'event_feature_number_of_alarms_within_24_hours', 'event_start_hour',\n",
    "       'event_end_hour', 'event_day_date', 'event_start_hour_datetimeEpoch',\n",
    "       'event_end_hour_datetimeEpoch', 'event_hour_level_event_time',\n",
    "       'event_hour_level_event_datetimeEpoch','region_alt','hour_conditions','center_city_en','hour_datetime','day_sunset','day_sunrise','isAlarm','hour_precip','hour_solarradiation','hour_solarenergy','hour_uvindex', 'event_region_title', 'event_region_city', 'isw_report_date', 'isw_date_tomorrow_datetime', 'isw_keywords', 'isw_main_html_v6', 'isw_report_text_lemm', 'city', 'region', 'center_city_ua', 'hour_preciptype', 'city_resolvedAddress', 'day_datetime', 'event_Unnamed: 0'],axis=1)"
   ]
  },
  {
   "cell_type": "code",
   "execution_count": null,
   "id": "7c0067e4-3526-4756-a918-90ebd53afe33",
   "metadata": {},
   "outputs": [],
   "source": [
    "weather_alarms_tfidf_features.to_csv('weather_alarms_tfidf_features_clear.csv')"
   ]
  },
  {
   "cell_type": "code",
   "execution_count": null,
   "id": "fc2cd343-c074-4342-9db8-d7db36db2d16",
   "metadata": {},
   "outputs": [],
   "source": [
    "weather_alarms_tfidf_features.isnull().sum()"
   ]
  },
  {
   "cell_type": "code",
   "execution_count": null,
   "id": "7e25aea0-085a-450b-9444-b43155a6fd52",
   "metadata": {},
   "outputs": [],
   "source": [
    "weather_alarms_tfidf_csr = scipy.sparse.csr_matrix(weather_alarms_tfidf_features)\n",
    "weather_alarms_tfidf_features = scipy.sparse.hstack((weather_alarms_tfidf_csr, tfidf_vector), format=\"csr\")"
   ]
  },
  {
   "cell_type": "code",
   "execution_count": null,
   "id": "f0d5beff-26e2-4ae6-8a7b-9b7789024022",
   "metadata": {},
   "outputs": [],
   "source": [
    "scipy.sparse.save_npz('weather_alarms_tfidf_features.npz', weather_alarms_tfidf_features)"
   ]
  },
  {
   "cell_type": "code",
   "execution_count": null,
   "id": "54eccbca-3e9c-45b4-9016-aa48513a65e3",
   "metadata": {},
   "outputs": [],
   "source": [
    "weather_alarms_tfidf_features"
   ]
  },
  {
   "cell_type": "markdown",
   "id": "b6d01d06-f5e9-4717-9d46-bdab3a597d7d",
   "metadata": {},
   "source": [
    "Devide , train anf evulate"
   ]
  },
  {
   "cell_type": "code",
   "execution_count": 9,
   "id": "d760d349-d3cb-4aa6-8020-7ad178a5234f",
   "metadata": {},
   "outputs": [],
   "source": [
    "from sklearn.model_selection import TimeSeriesSplit\n",
    "#from sklearn.svm import SVC\n",
    "#from sklearn.ensemble import RandomForestClassifier\n",
    "#from sklearn.neighbors import KNeighborsClassifier\n",
    "from sklearn.linear_model import SGDClassifier, LogisticRegression\n",
    "from sklearn.linear_model import LinearRegression\n",
    "from sklearn.metrics import mean_squared_error\n",
    "#from sklearn.naive_bayes import GaussianNB\n",
    "from sklearn.metrics import classification_report, accuracy_score\n",
    "from sklearn.utils import shuffle\n"
   ]
  },
  {
   "cell_type": "code",
   "execution_count": null,
   "id": "88aea708-50a7-47c6-b4e4-b938b46f5660",
   "metadata": {},
   "outputs": [],
   "source": [
    "COMMAND_ID = \"4\"\n",
    "X = weather_alarms_tfidf_features  \n",
    "y=isalarm\n",
    "X, y = shuffle(X, y, random_state=42)"
   ]
  },
  {
   "cell_type": "markdown",
   "id": "20a053fc-c333-4b8a-8079-e6452558c25b",
   "metadata": {},
   "source": [
    "Model LogisticRegression"
   ]
  },
  {
   "cell_type": "code",
   "execution_count": 10,
   "id": "9ac0a799-5076-489d-ade7-9227109ce0e7",
   "metadata": {},
   "outputs": [
    {
     "ename": "NameError",
     "evalue": "name 'X' is not defined",
     "output_type": "error",
     "traceback": [
      "\u001b[1;31m---------------------------------------------------------------------------\u001b[0m",
      "\u001b[1;31mNameError\u001b[0m                                 Traceback (most recent call last)",
      "Cell \u001b[1;32mIn[10], line 3\u001b[0m\n\u001b[0;32m      1\u001b[0m tss \u001b[38;5;241m=\u001b[39m TimeSeriesSplit(n_splits\u001b[38;5;241m=\u001b[39m\u001b[38;5;241m3\u001b[39m)\n\u001b[0;32m      2\u001b[0m circle \u001b[38;5;241m=\u001b[39m \u001b[38;5;241m0\u001b[39m\n\u001b[1;32m----> 3\u001b[0m \u001b[38;5;28;01mfor\u001b[39;00m train_index, test_index \u001b[38;5;129;01min\u001b[39;00m tss\u001b[38;5;241m.\u001b[39msplit(\u001b[43mX\u001b[49m):\n\u001b[0;32m      4\u001b[0m     X_train, X_test \u001b[38;5;241m=\u001b[39m X[train_index], X[test_index]\n\u001b[0;32m      5\u001b[0m     y_train, y_test \u001b[38;5;241m=\u001b[39m y[train_index], y[test_index]\n",
      "\u001b[1;31mNameError\u001b[0m: name 'X' is not defined"
     ]
    }
   ],
   "source": [
    "tss = TimeSeriesSplit(n_splits=3)\n",
    "circle = 0\n",
    "for train_index, test_index in tss.split(X):\n",
    "    X_train, X_test = X[train_index], X[test_index]\n",
    "    y_train, y_test = y[train_index], y[test_index]\n",
    "    print(X_train.shape)\n",
    "    print(X_test.shape)\n",
    "    lr = LogisticRegression()\n",
    "    lr.fit(X_train, y_train)\n",
    "    lr_pred = lr.predict(X_test)\n",
    "    lr_accuracy = accuracy_score(y_test, lr_pred)\n",
    "    lr_report = classification_report(y_test, lr_pred)\n",
    "    print(\"LogisticRegression Accuracy:\", lr_accuracy)\n",
    "    print(\"LogisticRegression Report:\\n\", lr_report)\n",
    "    MODEL_NAME = \"logreg\"\n",
    "    VERSION = \"1.\"+str(circle)\n",
    "    with open(f'{COMMAND_ID}_{MODEL_NAME}_{VERSION}.pkl', 'wb') as f:\n",
    "        pickle.dump(lr, f)\n",
    "    circle=circle+1"
   ]
  },
  {
   "cell_type": "markdown",
   "id": "2c4e3ae5-a1c0-4e32-8f0d-88f3c407370a",
   "metadata": {},
   "source": [
    "Model Linear Regression"
   ]
  },
  {
   "cell_type": "code",
   "execution_count": null,
   "id": "aa20f4f3-52a6-49da-8601-5a51154bc973",
   "metadata": {},
   "outputs": [],
   "source": [
    "tscv = TimeSeriesSplit(n_splits=3)\n",
    "circle = 0\n",
    "for train_index, test_index in tscv.split(X):\n",
    "    X_train, X_test = X[train_index], X[test_index]\n",
    "    y_train, y_test = y[train_index], y[test_index]\n",
    "    print(X_train.shape)\n",
    "    print(X_test.shape)\n",
    "    lr = LinearRegression()\n",
    "    lr.fit(X_train, y_train)\n",
    "    lr_pred = lr.predict(X_test)\n",
    "    lr_mse = mean_squared_error(y_test, lr_pred)\n",
    "    print(\"Linear Regression Mean Squared Error:\", lr_mse)\n",
    "    MODEL_NAME = \"linear_regression\"\n",
    "    VERSION = \"1.\"+str(circle)\n",
    "    with open(f'models/training_models/{COMMAND_ID}_{MODEL_NAME}_{VERSION}.pkl', 'wb') as f:\n",
    "        pickle.dump(lr, f)\n",
    "    circle = circle + 1"
   ]
  }
 ],
 "metadata": {
  "kernelspec": {
   "display_name": "Python 3 (ipykernel)",
   "language": "python",
   "name": "python3"
  },
  "language_info": {
   "codemirror_mode": {
    "name": "ipython",
    "version": 3
   },
   "file_extension": ".py",
   "mimetype": "text/x-python",
   "name": "python",
   "nbconvert_exporter": "python",
   "pygments_lexer": "ipython3",
   "version": "3.12.0"
  }
 },
 "nbformat": 4,
 "nbformat_minor": 5
}
